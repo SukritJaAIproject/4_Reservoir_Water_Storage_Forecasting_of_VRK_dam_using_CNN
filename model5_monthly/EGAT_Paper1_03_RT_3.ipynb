{
 "cells": [
  {
   "cell_type": "code",
   "execution_count": 1,
   "metadata": {},
   "outputs": [
    {
     "name": "stderr",
     "output_type": "stream",
     "text": [
      "Using TensorFlow backend.\n"
     ]
    }
   ],
   "source": [
    "# multi headed multi-step cnn\n",
    "from math import sqrt\n",
    "from numpy import split\n",
    "from numpy import array\n",
    "from pandas import read_csv\n",
    "from sklearn.metrics import mean_squared_error\n",
    "from matplotlib import pyplot\n",
    "from keras.models import Sequential\n",
    "from keras.layers import Dense\n",
    "from keras.layers import Flatten\n",
    "from keras.layers.convolutional import Conv1D\n",
    "from keras.layers.convolutional import MaxPooling1D\n",
    "from keras.models import Model\n",
    "from keras.layers import Input\n",
    "from keras.layers.merge import concatenate\n",
    "import matplotlib.pyplot as plt\n",
    "\n",
    "from func1 import *\n",
    "from query1 import *\n",
    "from Func_Paper1 import *"
   ]
  },
  {
   "cell_type": "code",
   "execution_count": 2,
   "metadata": {},
   "outputs": [
    {
     "name": "stdout",
     "output_type": "stream",
     "text": [
      "shape  (30, 33)\n"
     ]
    }
   ],
   "source": [
    "df = data1(30)\n",
    "\n",
    "df.index = df['datetime']\n",
    "df.index = df.index.astype('datetime64[ns]')\n",
    "df.sort_index(inplace=True)\n",
    "df.dropna(inplace=True)\n",
    "df['datetime'] = pd.to_datetime(df['datetime'])\n",
    "print(\"shape \", df.shape)"
   ]
  },
  {
   "cell_type": "code",
   "execution_count": 3,
   "metadata": {},
   "outputs": [
    {
     "data": {
      "text/html": [
       "<div>\n",
       "<style scoped>\n",
       "    .dataframe tbody tr th:only-of-type {\n",
       "        vertical-align: middle;\n",
       "    }\n",
       "\n",
       "    .dataframe tbody tr th {\n",
       "        vertical-align: top;\n",
       "    }\n",
       "\n",
       "    .dataframe thead th {\n",
       "        text-align: right;\n",
       "    }\n",
       "</style>\n",
       "<table border=\"1\" class=\"dataframe\">\n",
       "  <thead>\n",
       "    <tr style=\"text-align: right;\">\n",
       "      <th></th>\n",
       "      <th>datetime</th>\n",
       "      <th>fore24</th>\n",
       "      <th>tail24</th>\n",
       "      <th>tail24_avg</th>\n",
       "      <th>evap</th>\n",
       "      <th>infl</th>\n",
       "      <th>losses</th>\n",
       "      <th>rel1</th>\n",
       "      <th>rel2</th>\n",
       "      <th>rel3</th>\n",
       "      <th>...</th>\n",
       "      <th>run_c1</th>\n",
       "      <th>run_c2</th>\n",
       "      <th>run_c3</th>\n",
       "      <th>spillway</th>\n",
       "      <th>irr</th>\n",
       "      <th>camp</th>\n",
       "      <th>demand</th>\n",
       "      <th>derate</th>\n",
       "      <th>outage</th>\n",
       "      <th>stor</th>\n",
       "    </tr>\n",
       "    <tr>\n",
       "      <th>datetime</th>\n",
       "      <th></th>\n",
       "      <th></th>\n",
       "      <th></th>\n",
       "      <th></th>\n",
       "      <th></th>\n",
       "      <th></th>\n",
       "      <th></th>\n",
       "      <th></th>\n",
       "      <th></th>\n",
       "      <th></th>\n",
       "      <th></th>\n",
       "      <th></th>\n",
       "      <th></th>\n",
       "      <th></th>\n",
       "      <th></th>\n",
       "      <th></th>\n",
       "      <th></th>\n",
       "      <th></th>\n",
       "      <th></th>\n",
       "      <th></th>\n",
       "      <th></th>\n",
       "    </tr>\n",
       "  </thead>\n",
       "  <tbody>\n",
       "    <tr>\n",
       "      <th>2020-06-03</th>\n",
       "      <td>2020-06-03</td>\n",
       "      <td>139.71</td>\n",
       "      <td>82.5</td>\n",
       "      <td>82.18</td>\n",
       "      <td>0.5655</td>\n",
       "      <td>6.3569</td>\n",
       "      <td>0.0</td>\n",
       "      <td>4.6418</td>\n",
       "      <td>4.7447</td>\n",
       "      <td>3.6625</td>\n",
       "      <td>...</td>\n",
       "      <td>0.8</td>\n",
       "      <td>85.1</td>\n",
       "      <td>100.3</td>\n",
       "      <td>0.0</td>\n",
       "      <td>0.0</td>\n",
       "      <td>8489.0</td>\n",
       "      <td>13.0</td>\n",
       "      <td>75.0</td>\n",
       "      <td>0.0</td>\n",
       "      <td>4046.9548</td>\n",
       "    </tr>\n",
       "  </tbody>\n",
       "</table>\n",
       "<p>1 rows × 33 columns</p>\n",
       "</div>"
      ],
      "text/plain": [
       "             datetime  fore24  tail24  tail24_avg    evap    infl  losses  \\\n",
       "datetime                                                                    \n",
       "2020-06-03 2020-06-03  139.71    82.5       82.18  0.5655  6.3569     0.0   \n",
       "\n",
       "              rel1    rel2    rel3  ...  run_c1  run_c2  run_c3  spillway  \\\n",
       "datetime                            ...                                     \n",
       "2020-06-03  4.6418  4.7447  3.6625  ...     0.8    85.1   100.3       0.0   \n",
       "\n",
       "            irr    camp  demand  derate  outage       stor  \n",
       "datetime                                                    \n",
       "2020-06-03  0.0  8489.0    13.0    75.0     0.0  4046.9548  \n",
       "\n",
       "[1 rows x 33 columns]"
      ]
     },
     "execution_count": 3,
     "metadata": {},
     "output_type": "execute_result"
    }
   ],
   "source": [
    "df.tail(1)"
   ]
  },
  {
   "cell_type": "code",
   "execution_count": 4,
   "metadata": {},
   "outputs": [],
   "source": [
    "dtat0 = df.iloc[-1:,0:1].values[0][0]\n",
    "dti = pd.date_range(dtat0, periods=30).shift(1, freq='D')\n",
    "dfdt = dti.to_frame(index=False, name='datims')"
   ]
  },
  {
   "cell_type": "code",
   "execution_count": 5,
   "metadata": {},
   "outputs": [],
   "source": [
    "# dfdt"
   ]
  },
  {
   "cell_type": "code",
   "execution_count": 6,
   "metadata": {},
   "outputs": [],
   "source": [
    "df.drop(('datetime'), axis=1, inplace=True)"
   ]
  },
  {
   "cell_type": "code",
   "execution_count": 7,
   "metadata": {},
   "outputs": [],
   "source": [
    "from sklearn.preprocessing import MinMaxScaler\n",
    "y_scaler = MinMaxScaler()\n",
    "y_scaler.fit(df[['stor']])\n",
    "X_scaler = MinMaxScaler()\n",
    "\n",
    "df[['fore24', 'tail24', 'tail24_avg', 'evap', 'infl', 'losses',\n",
    "       'rel1', 'rel2', 'rel3', 'rel_tol', 'engr1', 'engr2', 'engr3', 'cond1',\n",
    "       'cond2', 'cond3', 'str1', 'str2', 'str3', 'run_g1', 'run_g2', 'run_g3',\n",
    "       'run_c1', 'run_c2', 'run_c3', 'spillway', 'irr', 'camp', 'demand',\n",
    "       'derate', 'outage', 'stor']] = X_scaler.fit_transform(df)\n",
    "\n",
    "dfval = df.values[:,:-1]"
   ]
  },
  {
   "cell_type": "code",
   "execution_count": 8,
   "metadata": {},
   "outputs": [],
   "source": [
    "def split_dataset(data):\n",
    "    test = data\n",
    "    test = array(split(test, len(test)/30))\n",
    "    return test"
   ]
  },
  {
   "cell_type": "code",
   "execution_count": 9,
   "metadata": {},
   "outputs": [],
   "source": [
    "test = split_dataset(df.values)"
   ]
  },
  {
   "cell_type": "code",
   "execution_count": 10,
   "metadata": {},
   "outputs": [
    {
     "name": "stdout",
     "output_type": "stream",
     "text": [
      "test (1, 30, 32)\n"
     ]
    }
   ],
   "source": [
    "print('test', test.shape)"
   ]
  },
  {
   "cell_type": "code",
   "execution_count": 11,
   "metadata": {},
   "outputs": [],
   "source": [
    "n_input = 14"
   ]
  },
  {
   "cell_type": "code",
   "execution_count": 12,
   "metadata": {},
   "outputs": [],
   "source": [
    "def forecast(model, history, n_input):\n",
    "\n",
    "    data = array(history)\n",
    "    data = data.reshape((data.shape[0]*data.shape[1], data.shape[2]))\n",
    "\n",
    "    input_x = data[-n_input:, :]\n",
    "\n",
    "    input_x = [input_x[:,i].reshape((1,input_x.shape[0],1)) for i in range(input_x.shape[1])]\n",
    "\n",
    "    yhat = model.predict(input_x, verbose=1)\n",
    "\n",
    "    yhat = yhat[0]\n",
    "    \n",
    "    return yhat"
   ]
  },
  {
   "cell_type": "code",
   "execution_count": 13,
   "metadata": {},
   "outputs": [],
   "source": [
    "#เป็น list ที่สมาชิกแต่ละตัวเป็น samples (windows, n-feature)\n",
    "history = [x for x in test]"
   ]
  },
  {
   "cell_type": "code",
   "execution_count": 14,
   "metadata": {},
   "outputs": [
    {
     "name": "stdout",
     "output_type": "stream",
     "text": [
      "1\n",
      "<class 'list'>\n",
      "(1, 30, 32)\n",
      "<class 'numpy.ndarray'>\n"
     ]
    }
   ],
   "source": [
    "print(len(history))\n",
    "print(type(history))\n",
    "print((array(history).shape))\n",
    "print(type(array(history)))"
   ]
  },
  {
   "cell_type": "code",
   "execution_count": 15,
   "metadata": {},
   "outputs": [],
   "source": [
    "model = ShallowConvNet(test, n_input)\n",
    "# model.summary()\n",
    "model.load_weights(\"models/weights27.hdf5\")\n",
    "model.compile(loss='mse', optimizer='adam')"
   ]
  },
  {
   "cell_type": "code",
   "execution_count": 16,
   "metadata": {},
   "outputs": [
    {
     "name": "stdout",
     "output_type": "stream",
     "text": [
      "\r",
      "1/1 [==============================] - 1s 1s/step\n"
     ]
    }
   ],
   "source": [
    "predictions = list()\n",
    "for i in range(len(test)):\n",
    "    # predict the week\n",
    "    yhat_sequence = forecast(model, history, n_input)\n",
    "    # store the predictions\n",
    "    predictions.append(yhat_sequence)\n",
    "    # get real observation and add to history for predicting the next week\n",
    "#     history.append(test[i, :])\n",
    "# evaluate predictions days for each week\n",
    "predictions = array(predictions)"
   ]
  },
  {
   "cell_type": "code",
   "execution_count": 17,
   "metadata": {},
   "outputs": [],
   "source": [
    "yp = y_scaler.inverse_transform(predictions)"
   ]
  },
  {
   "cell_type": "code",
   "execution_count": 18,
   "metadata": {},
   "outputs": [],
   "source": [
    "from sqlalchemy import create_engine\n",
    "user='root'\n",
    "pwd='opt#565784'\n",
    "dbname='predictive'\n",
    "host='10.211.1.25'\n",
    "port=3306\n",
    "con = create_engine(f'mysql+pymysql://{user}:{pwd}@{host}:{port}/{dbname}')\n",
    "\n",
    "df = pd.DataFrame(yp).T\n",
    "df.columns = ['stor30D']\n",
    "com = pd.concat([dfdt, df], axis=1, join='inner')\n",
    "com.to_sql('monthly', con, if_exists='replace', index=False)"
   ]
  },
  {
   "cell_type": "code",
   "execution_count": null,
   "metadata": {},
   "outputs": [],
   "source": []
  }
 ],
 "metadata": {
  "kernelspec": {
   "display_name": "Python 3",
   "language": "python",
   "name": "python3"
  },
  "language_info": {
   "codemirror_mode": {
    "name": "ipython",
    "version": 3
   },
   "file_extension": ".py",
   "mimetype": "text/x-python",
   "name": "python",
   "nbconvert_exporter": "python",
   "pygments_lexer": "ipython3",
   "version": "3.7.7"
  }
 },
 "nbformat": 4,
 "nbformat_minor": 4
}
