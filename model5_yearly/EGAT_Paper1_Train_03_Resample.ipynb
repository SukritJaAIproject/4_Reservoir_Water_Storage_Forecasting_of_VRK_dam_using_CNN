{
 "cells": [
  {
   "cell_type": "code",
   "execution_count": 103,
   "metadata": {},
   "outputs": [],
   "source": [
    "# multi headed multi-step cnn\n",
    "from math import sqrt\n",
    "from numpy import split\n",
    "from numpy import array\n",
    "from pandas import read_csv\n",
    "from sklearn.metrics import mean_squared_error\n",
    "from matplotlib import pyplot\n",
    "from keras.models import Sequential\n",
    "from keras.layers import Dense\n",
    "from keras.layers import Flatten\n",
    "from keras.layers.convolutional import Conv1D\n",
    "from keras.layers.convolutional import MaxPooling1D\n",
    "from keras.models import Model\n",
    "from keras.layers import Input\n",
    "from keras.layers.merge import concatenate\n",
    "import matplotlib.pyplot as plt\n",
    "from keras.callbacks import ModelCheckpoint\n",
    "\n",
    "from query2 import *\n",
    "from Func_Paper1 import *"
   ]
  },
  {
   "cell_type": "code",
   "execution_count": 104,
   "metadata": {},
   "outputs": [
    {
     "name": "stdout",
     "output_type": "stream",
     "text": [
      "shape  (4410, 33)\n"
     ]
    }
   ],
   "source": [
    "df = data1()\n",
    "df.index = df['datetime']\n",
    "df.index = df.index.astype('datetime64[ns]')\n",
    "df.sort_index(inplace=True)\n",
    "df.dropna(inplace=True)\n",
    "df['datetime'] = pd.to_datetime(df['datetime'])\n",
    "# df.drop(('datetime'), axis=1, inplace=True)\n",
    "\n",
    "print(\"shape \", df.shape)"
   ]
  },
  {
   "cell_type": "code",
   "execution_count": 106,
   "metadata": {},
   "outputs": [
    {
     "name": "stdout",
     "output_type": "stream",
     "text": [
      "shape  (198, 32)\n"
     ]
    }
   ],
   "source": [
    "df = df.resample('M').mean() \n",
    "print(\"shape \", df.shape)"
   ]
  },
  {
   "cell_type": "code",
   "execution_count": 107,
   "metadata": {},
   "outputs": [],
   "source": [
    "df.dropna(inplace=True)"
   ]
  },
  {
   "cell_type": "code",
   "execution_count": 108,
   "metadata": {},
   "outputs": [
    {
     "data": {
      "text/plain": [
       "(150, 32)"
      ]
     },
     "execution_count": 108,
     "metadata": {},
     "output_type": "execute_result"
    }
   ],
   "source": [
    "df.shape"
   ]
  },
  {
   "cell_type": "code",
   "execution_count": 109,
   "metadata": {},
   "outputs": [],
   "source": [
    "from sklearn.preprocessing import MinMaxScaler\n",
    "y_scaler = MinMaxScaler()\n",
    "y_scaler.fit(df[['fore24']])\n",
    "\n",
    "X_scaler = MinMaxScaler()\n",
    "\n",
    "df[['tail24', 'tail24_avg', 'evap', 'infl', 'losses',\n",
    "       'rel1', 'rel2', 'rel3', 'rel_tol', 'engr1', 'engr2', 'engr3', 'cond1',\n",
    "       'cond2', 'cond3', 'str1', 'str2', 'str3', 'run_g1', 'run_g2', 'run_g3',\n",
    "       'run_c1', 'run_c2', 'run_c3', 'spillway', 'irr', 'camp', 'demand',\n",
    "       'derate', 'outage', 'stor','fore24']] = X_scaler.fit_transform(df)"
   ]
  },
  {
   "cell_type": "code",
   "execution_count": 110,
   "metadata": {},
   "outputs": [],
   "source": [
    "def split_dataset(data):\n",
    "\n",
    "    train, test = data[:], data[:]\n",
    "    print('train', train.shape)\n",
    "    print('test', test.shape)\n",
    "\n",
    "    train = array(split(train, len(train)/6))\n",
    "    test = array(split(test, len(test)/6))\n",
    "    return train, test"
   ]
  },
  {
   "cell_type": "code",
   "execution_count": 111,
   "metadata": {},
   "outputs": [
    {
     "name": "stdout",
     "output_type": "stream",
     "text": [
      "train (150, 32)\n",
      "test (150, 32)\n"
     ]
    }
   ],
   "source": [
    "train, test = split_dataset(df.values)"
   ]
  },
  {
   "cell_type": "code",
   "execution_count": 112,
   "metadata": {},
   "outputs": [
    {
     "name": "stdout",
     "output_type": "stream",
     "text": [
      "train (25, 6, 32)\n",
      "test (25, 6, 32)\n"
     ]
    }
   ],
   "source": [
    "print('train', train.shape)\n",
    "print('test', test.shape)"
   ]
  },
  {
   "cell_type": "code",
   "execution_count": 113,
   "metadata": {},
   "outputs": [],
   "source": [
    "n_input = 14"
   ]
  },
  {
   "cell_type": "code",
   "execution_count": 114,
   "metadata": {},
   "outputs": [],
   "source": [
    "def to_supervised(train, n_input, n_out=6):\n",
    "    # flatten data\n",
    "    data = train.reshape((train.shape[0]*train.shape[1], train.shape[2])) #()\n",
    "    X, y = list(), list()\n",
    "    in_start = 0\n",
    "    # step over the entire history one time step at a time\n",
    "    for _ in range(len(data)): #len(data) = 1113\n",
    "        # define the end of the input sequence\n",
    "        in_end = in_start + n_input\n",
    "        out_end = in_end + n_out\n",
    "        # ensure we have enough data for this instance\n",
    "        if out_end <= len(data):\n",
    "            X.append(data[in_start:in_end, :])\n",
    "            y.append(data[in_end:out_end, 31])\n",
    "        # move along one time step\n",
    "        in_start += 1\n",
    "    return array(X), array(y)"
   ]
  },
  {
   "cell_type": "code",
   "execution_count": 115,
   "metadata": {},
   "outputs": [],
   "source": [
    "def build_model(train, n_input):\n",
    "    # prepare data\n",
    "    train_x, train_y = to_supervised(train, n_input)\n",
    "    # define parameters\n",
    "    verbose, epochs, batch_size = 1, 100, 16\n",
    "    n_timesteps, n_features, n_outputs = train_x.shape[1], train_x.shape[2], train_y.shape[1]\n",
    "    # create a channel for each variable\n",
    "    in_layers, out_layers = list(), list()\n",
    "    for i in range(n_features):\n",
    "        inputs = Input(shape=(n_timesteps,1))\n",
    "        conv1 = Conv1D(filters=32, kernel_size=3, activation='relu')(inputs)\n",
    "        conv2 = Conv1D(filters=32, kernel_size=3, activation='relu')(conv1)\n",
    "        pool1 = MaxPooling1D(pool_size=2)(conv2)\n",
    "        flat = Flatten()(pool1)\n",
    "        # store layers\n",
    "        in_layers.append(inputs)\n",
    "        out_layers.append(flat)\n",
    "    # merge heads\n",
    "    merged = concatenate(out_layers)\n",
    "    # interpretation\n",
    "    dense1 = Dense(200, activation='relu')(merged)\n",
    "    dense2 = Dense(100, activation='relu')(dense1)\n",
    "    outputs = Dense(n_outputs)(dense2)\n",
    "    model = Model(inputs=in_layers, outputs=outputs)\n",
    "    # compile model\n",
    "    model.compile(loss='mse', optimizer='adam')\n",
    "    \n",
    "    \n",
    "    save_path = 'models/'\n",
    "    filepath=save_path+\"weights{epoch:02d}.hdf5\"\n",
    "    checkpointer = ModelCheckpoint(monitor='val_loss', filepath=filepath, verbose=1, save_best_only=True)\n",
    "        \n",
    "    # fit network\n",
    "    input_data = [train_x[:,:,i].reshape((train_x.shape[0],n_timesteps,1)) for i in range(n_features)]\n",
    "    history = model.fit(input_data, train_y, validation_split=0.2, epochs=epochs, batch_size=batch_size, verbose=verbose,callbacks=[checkpointer])\n",
    "    return model"
   ]
  },
  {
   "cell_type": "code",
   "execution_count": 117,
   "metadata": {},
   "outputs": [
    {
     "name": "stdout",
     "output_type": "stream",
     "text": [
      "Train on 104 samples, validate on 27 samples\n",
      "Epoch 1/100\n",
      "104/104 [==============================] - 3s 29ms/step - loss: 0.1875 - val_loss: 0.0739\n",
      "\n",
      "Epoch 00001: val_loss improved from inf to 0.07387, saving model to models/weights01.hdf5\n",
      "Epoch 2/100\n",
      "104/104 [==============================] - 0s 2ms/step - loss: 0.0828 - val_loss: 0.0615\n",
      "\n",
      "Epoch 00002: val_loss improved from 0.07387 to 0.06150, saving model to models/weights02.hdf5\n",
      "Epoch 3/100\n",
      "104/104 [==============================] - 0s 2ms/step - loss: 0.0545 - val_loss: 0.0670\n",
      "\n",
      "Epoch 00003: val_loss did not improve from 0.06150\n",
      "Epoch 4/100\n",
      "104/104 [==============================] - 0s 2ms/step - loss: 0.0368 - val_loss: 0.0479\n",
      "\n",
      "Epoch 00004: val_loss improved from 0.06150 to 0.04789, saving model to models/weights04.hdf5\n",
      "Epoch 5/100\n",
      "104/104 [==============================] - 0s 3ms/step - loss: 0.0242 - val_loss: 0.0527\n",
      "\n",
      "Epoch 00005: val_loss did not improve from 0.04789\n",
      "Epoch 6/100\n",
      "104/104 [==============================] - 0s 2ms/step - loss: 0.0195 - val_loss: 0.0618\n",
      "\n",
      "Epoch 00006: val_loss did not improve from 0.04789\n",
      "Epoch 7/100\n",
      "104/104 [==============================] - 0s 2ms/step - loss: 0.0160 - val_loss: 0.0648\n",
      "\n",
      "Epoch 00007: val_loss did not improve from 0.04789\n",
      "Epoch 8/100\n",
      "104/104 [==============================] - 0s 2ms/step - loss: 0.0126 - val_loss: 0.0920\n",
      "\n",
      "Epoch 00008: val_loss did not improve from 0.04789\n",
      "Epoch 9/100\n",
      "104/104 [==============================] - 0s 2ms/step - loss: 0.0097 - val_loss: 0.0894\n",
      "\n",
      "Epoch 00009: val_loss did not improve from 0.04789\n",
      "Epoch 10/100\n",
      "104/104 [==============================] - 0s 2ms/step - loss: 0.0084 - val_loss: 0.1023\n",
      "\n",
      "Epoch 00010: val_loss did not improve from 0.04789\n",
      "Epoch 11/100\n",
      "104/104 [==============================] - 0s 2ms/step - loss: 0.0065 - val_loss: 0.1256\n",
      "\n",
      "Epoch 00011: val_loss did not improve from 0.04789\n",
      "Epoch 12/100\n",
      "104/104 [==============================] - 0s 2ms/step - loss: 0.0056 - val_loss: 0.1158\n",
      "\n",
      "Epoch 00012: val_loss did not improve from 0.04789\n",
      "Epoch 13/100\n",
      "104/104 [==============================] - 0s 2ms/step - loss: 0.0044 - val_loss: 0.1226\n",
      "\n",
      "Epoch 00013: val_loss did not improve from 0.04789\n",
      "Epoch 14/100\n",
      "104/104 [==============================] - 0s 2ms/step - loss: 0.0038 - val_loss: 0.1343\n",
      "\n",
      "Epoch 00014: val_loss did not improve from 0.04789\n",
      "Epoch 15/100\n",
      "104/104 [==============================] - 0s 2ms/step - loss: 0.0032 - val_loss: 0.1247\n",
      "\n",
      "Epoch 00015: val_loss did not improve from 0.04789\n",
      "Epoch 16/100\n",
      "104/104 [==============================] - 0s 2ms/step - loss: 0.0027 - val_loss: 0.1305\n",
      "\n",
      "Epoch 00016: val_loss did not improve from 0.04789\n",
      "Epoch 17/100\n",
      "104/104 [==============================] - 0s 2ms/step - loss: 0.0022 - val_loss: 0.1262\n",
      "\n",
      "Epoch 00017: val_loss did not improve from 0.04789\n",
      "Epoch 18/100\n",
      "104/104 [==============================] - 0s 2ms/step - loss: 0.0021 - val_loss: 0.1332\n",
      "\n",
      "Epoch 00018: val_loss did not improve from 0.04789\n",
      "Epoch 19/100\n",
      "104/104 [==============================] - 0s 2ms/step - loss: 0.0020 - val_loss: 0.1327\n",
      "\n",
      "Epoch 00019: val_loss did not improve from 0.04789\n",
      "Epoch 20/100\n",
      "104/104 [==============================] - 0s 2ms/step - loss: 0.0018 - val_loss: 0.1251\n",
      "\n",
      "Epoch 00020: val_loss did not improve from 0.04789\n",
      "Epoch 21/100\n",
      "104/104 [==============================] - 0s 3ms/step - loss: 0.0015 - val_loss: 0.1233\n",
      "\n",
      "Epoch 00021: val_loss did not improve from 0.04789\n",
      "Epoch 22/100\n",
      "104/104 [==============================] - 0s 2ms/step - loss: 0.0015 - val_loss: 0.1239\n",
      "\n",
      "Epoch 00022: val_loss did not improve from 0.04789\n",
      "Epoch 23/100\n",
      "104/104 [==============================] - 0s 2ms/step - loss: 0.0013 - val_loss: 0.1266\n",
      "\n",
      "Epoch 00023: val_loss did not improve from 0.04789\n",
      "Epoch 24/100\n",
      "104/104 [==============================] - 0s 2ms/step - loss: 0.0013 - val_loss: 0.1236\n",
      "\n",
      "Epoch 00024: val_loss did not improve from 0.04789\n",
      "Epoch 25/100\n",
      "104/104 [==============================] - 0s 3ms/step - loss: 0.0011 - val_loss: 0.1271\n",
      "\n",
      "Epoch 00025: val_loss did not improve from 0.04789\n",
      "Epoch 26/100\n",
      "104/104 [==============================] - 0s 3ms/step - loss: 0.0010 - val_loss: 0.1292\n",
      "\n",
      "Epoch 00026: val_loss did not improve from 0.04789\n",
      "Epoch 27/100\n",
      "104/104 [==============================] - 0s 3ms/step - loss: 9.1695e-04 - val_loss: 0.1290\n",
      "\n",
      "Epoch 00027: val_loss did not improve from 0.04789\n",
      "Epoch 28/100\n",
      "104/104 [==============================] - 0s 2ms/step - loss: 8.7676e-04 - val_loss: 0.1278\n",
      "\n",
      "Epoch 00028: val_loss did not improve from 0.04789\n",
      "Epoch 29/100\n",
      "104/104 [==============================] - 0s 2ms/step - loss: 8.3360e-04 - val_loss: 0.1268\n",
      "\n",
      "Epoch 00029: val_loss did not improve from 0.04789\n",
      "Epoch 30/100\n",
      "104/104 [==============================] - 0s 2ms/step - loss: 7.5539e-04 - val_loss: 0.1250\n",
      "\n",
      "Epoch 00030: val_loss did not improve from 0.04789\n",
      "Epoch 31/100\n",
      "104/104 [==============================] - 0s 2ms/step - loss: 7.3173e-04 - val_loss: 0.1233\n",
      "\n",
      "Epoch 00031: val_loss did not improve from 0.04789\n",
      "Epoch 32/100\n",
      "104/104 [==============================] - 0s 2ms/step - loss: 7.0110e-04 - val_loss: 0.1230\n",
      "\n",
      "Epoch 00032: val_loss did not improve from 0.04789\n",
      "Epoch 33/100\n",
      "104/104 [==============================] - 0s 2ms/step - loss: 6.3623e-04 - val_loss: 0.1243\n",
      "\n",
      "Epoch 00033: val_loss did not improve from 0.04789\n",
      "Epoch 34/100\n",
      "104/104 [==============================] - 0s 2ms/step - loss: 5.8132e-04 - val_loss: 0.1264\n",
      "\n",
      "Epoch 00034: val_loss did not improve from 0.04789\n",
      "Epoch 35/100\n",
      "104/104 [==============================] - 0s 2ms/step - loss: 5.5603e-04 - val_loss: 0.1249\n",
      "\n",
      "Epoch 00035: val_loss did not improve from 0.04789\n",
      "Epoch 36/100\n",
      "104/104 [==============================] - 0s 2ms/step - loss: 5.3110e-04 - val_loss: 0.1273\n",
      "\n",
      "Epoch 00036: val_loss did not improve from 0.04789\n",
      "Epoch 37/100\n",
      "104/104 [==============================] - 0s 2ms/step - loss: 4.4724e-04 - val_loss: 0.1266\n",
      "\n",
      "Epoch 00037: val_loss did not improve from 0.04789\n",
      "Epoch 38/100\n",
      "104/104 [==============================] - 0s 2ms/step - loss: 4.9751e-04 - val_loss: 0.1244\n",
      "\n",
      "Epoch 00038: val_loss did not improve from 0.04789\n",
      "Epoch 39/100\n",
      "104/104 [==============================] - 0s 2ms/step - loss: 5.0865e-04 - val_loss: 0.1231\n",
      "\n",
      "Epoch 00039: val_loss did not improve from 0.04789\n",
      "Epoch 40/100\n",
      "104/104 [==============================] - 0s 2ms/step - loss: 4.5447e-04 - val_loss: 0.1252\n",
      "\n",
      "Epoch 00040: val_loss did not improve from 0.04789\n",
      "Epoch 41/100\n",
      "104/104 [==============================] - 0s 2ms/step - loss: 4.3008e-04 - val_loss: 0.1257\n",
      "\n",
      "Epoch 00041: val_loss did not improve from 0.04789\n",
      "Epoch 42/100\n",
      "104/104 [==============================] - 0s 2ms/step - loss: 3.9825e-04 - val_loss: 0.1250\n",
      "\n",
      "Epoch 00042: val_loss did not improve from 0.04789\n",
      "Epoch 43/100\n",
      "104/104 [==============================] - 0s 2ms/step - loss: 4.1043e-04 - val_loss: 0.1243\n",
      "\n",
      "Epoch 00043: val_loss did not improve from 0.04789\n",
      "Epoch 44/100\n",
      "104/104 [==============================] - 0s 2ms/step - loss: 3.5424e-04 - val_loss: 0.1238\n",
      "\n",
      "Epoch 00044: val_loss did not improve from 0.04789\n",
      "Epoch 45/100\n",
      "104/104 [==============================] - 0s 2ms/step - loss: 3.2478e-04 - val_loss: 0.1267\n",
      "\n",
      "Epoch 00045: val_loss did not improve from 0.04789\n",
      "Epoch 46/100\n",
      "104/104 [==============================] - 0s 2ms/step - loss: 2.8229e-04 - val_loss: 0.1251\n",
      "\n",
      "Epoch 00046: val_loss did not improve from 0.04789\n",
      "Epoch 47/100\n",
      "104/104 [==============================] - 0s 2ms/step - loss: 2.6645e-04 - val_loss: 0.1275\n",
      "\n",
      "Epoch 00047: val_loss did not improve from 0.04789\n",
      "Epoch 48/100\n",
      "104/104 [==============================] - 0s 2ms/step - loss: 2.9058e-04 - val_loss: 0.1259\n",
      "\n",
      "Epoch 00048: val_loss did not improve from 0.04789\n",
      "Epoch 49/100\n",
      "104/104 [==============================] - 0s 2ms/step - loss: 2.2110e-04 - val_loss: 0.1274\n",
      "\n",
      "Epoch 00049: val_loss did not improve from 0.04789\n",
      "Epoch 50/100\n",
      "104/104 [==============================] - 0s 2ms/step - loss: 1.9070e-04 - val_loss: 0.1259\n",
      "\n",
      "Epoch 00050: val_loss did not improve from 0.04789\n",
      "Epoch 51/100\n",
      "104/104 [==============================] - 0s 2ms/step - loss: 1.6339e-04 - val_loss: 0.1258\n",
      "\n",
      "Epoch 00051: val_loss did not improve from 0.04789\n",
      "Epoch 52/100\n"
     ]
    },
    {
     "name": "stdout",
     "output_type": "stream",
     "text": [
      "104/104 [==============================] - 0s 2ms/step - loss: 1.4293e-04 - val_loss: 0.1231\n",
      "\n",
      "Epoch 00052: val_loss did not improve from 0.04789\n",
      "Epoch 53/100\n",
      "104/104 [==============================] - 0s 2ms/step - loss: 1.5874e-04 - val_loss: 0.1257\n",
      "\n",
      "Epoch 00053: val_loss did not improve from 0.04789\n",
      "Epoch 54/100\n",
      "104/104 [==============================] - 0s 2ms/step - loss: 1.4354e-04 - val_loss: 0.1263\n",
      "\n",
      "Epoch 00054: val_loss did not improve from 0.04789\n",
      "Epoch 55/100\n",
      "104/104 [==============================] - 0s 2ms/step - loss: 1.4130e-04 - val_loss: 0.1259\n",
      "\n",
      "Epoch 00055: val_loss did not improve from 0.04789\n",
      "Epoch 56/100\n",
      "104/104 [==============================] - 0s 2ms/step - loss: 1.6434e-04 - val_loss: 0.1267\n",
      "\n",
      "Epoch 00056: val_loss did not improve from 0.04789\n",
      "Epoch 57/100\n",
      "104/104 [==============================] - 0s 2ms/step - loss: 1.7710e-04 - val_loss: 0.1253\n",
      "\n",
      "Epoch 00057: val_loss did not improve from 0.04789\n",
      "Epoch 58/100\n",
      "104/104 [==============================] - 0s 2ms/step - loss: 1.7918e-04 - val_loss: 0.1235\n",
      "\n",
      "Epoch 00058: val_loss did not improve from 0.04789\n",
      "Epoch 59/100\n",
      "104/104 [==============================] - 0s 2ms/step - loss: 1.3711e-04 - val_loss: 0.1245\n",
      "\n",
      "Epoch 00059: val_loss did not improve from 0.04789\n",
      "Epoch 60/100\n",
      "104/104 [==============================] - 0s 2ms/step - loss: 1.3478e-04 - val_loss: 0.1274\n",
      "\n",
      "Epoch 00060: val_loss did not improve from 0.04789\n",
      "Epoch 61/100\n",
      "104/104 [==============================] - 0s 2ms/step - loss: 1.5365e-04 - val_loss: 0.1280\n",
      "\n",
      "Epoch 00061: val_loss did not improve from 0.04789\n",
      "Epoch 62/100\n",
      "104/104 [==============================] - 0s 2ms/step - loss: 1.4410e-04 - val_loss: 0.1271\n",
      "\n",
      "Epoch 00062: val_loss did not improve from 0.04789\n",
      "Epoch 63/100\n",
      "104/104 [==============================] - 0s 2ms/step - loss: 1.5050e-04 - val_loss: 0.1268\n",
      "\n",
      "Epoch 00063: val_loss did not improve from 0.04789\n",
      "Epoch 64/100\n",
      "104/104 [==============================] - 0s 2ms/step - loss: 1.6072e-04 - val_loss: 0.1269\n",
      "\n",
      "Epoch 00064: val_loss did not improve from 0.04789\n",
      "Epoch 65/100\n",
      "104/104 [==============================] - 0s 2ms/step - loss: 1.8117e-04 - val_loss: 0.1271\n",
      "\n",
      "Epoch 00065: val_loss did not improve from 0.04789\n",
      "Epoch 66/100\n",
      "104/104 [==============================] - 0s 2ms/step - loss: 1.4629e-04 - val_loss: 0.1239\n",
      "\n",
      "Epoch 00066: val_loss did not improve from 0.04789\n",
      "Epoch 67/100\n",
      "104/104 [==============================] - 0s 2ms/step - loss: 1.4792e-04 - val_loss: 0.1264\n",
      "\n",
      "Epoch 00067: val_loss did not improve from 0.04789\n",
      "Epoch 68/100\n",
      "104/104 [==============================] - 0s 2ms/step - loss: 1.4199e-04 - val_loss: 0.1286\n",
      "\n",
      "Epoch 00068: val_loss did not improve from 0.04789\n",
      "Epoch 69/100\n",
      "104/104 [==============================] - 0s 2ms/step - loss: 1.5898e-04 - val_loss: 0.1241\n",
      "\n",
      "Epoch 00069: val_loss did not improve from 0.04789\n",
      "Epoch 70/100\n",
      "104/104 [==============================] - 0s 2ms/step - loss: 1.8513e-04 - val_loss: 0.1314\n",
      "\n",
      "Epoch 00070: val_loss did not improve from 0.04789\n",
      "Epoch 71/100\n",
      "104/104 [==============================] - 0s 2ms/step - loss: 2.2823e-04 - val_loss: 0.1273\n",
      "\n",
      "Epoch 00071: val_loss did not improve from 0.04789\n",
      "Epoch 72/100\n",
      "104/104 [==============================] - 0s 2ms/step - loss: 2.3435e-04 - val_loss: 0.1290\n",
      "\n",
      "Epoch 00072: val_loss did not improve from 0.04789\n",
      "Epoch 73/100\n",
      "104/104 [==============================] - 0s 2ms/step - loss: 2.3622e-04 - val_loss: 0.1252\n",
      "\n",
      "Epoch 00073: val_loss did not improve from 0.04789\n",
      "Epoch 74/100\n",
      "104/104 [==============================] - 0s 2ms/step - loss: 1.9840e-04 - val_loss: 0.1242\n",
      "\n",
      "Epoch 00074: val_loss did not improve from 0.04789\n",
      "Epoch 75/100\n",
      "104/104 [==============================] - 0s 2ms/step - loss: 1.8352e-04 - val_loss: 0.1282\n",
      "\n",
      "Epoch 00075: val_loss did not improve from 0.04789\n",
      "Epoch 76/100\n",
      "104/104 [==============================] - 0s 2ms/step - loss: 1.3691e-04 - val_loss: 0.1262\n",
      "\n",
      "Epoch 00076: val_loss did not improve from 0.04789\n",
      "Epoch 77/100\n",
      "104/104 [==============================] - 0s 2ms/step - loss: 1.2477e-04 - val_loss: 0.1239\n",
      "\n",
      "Epoch 00077: val_loss did not improve from 0.04789\n",
      "Epoch 78/100\n",
      "104/104 [==============================] - 0s 2ms/step - loss: 1.5637e-04 - val_loss: 0.1276\n",
      "\n",
      "Epoch 00078: val_loss did not improve from 0.04789\n",
      "Epoch 79/100\n",
      "104/104 [==============================] - 0s 2ms/step - loss: 1.6356e-04 - val_loss: 0.1301\n",
      "\n",
      "Epoch 00079: val_loss did not improve from 0.04789\n",
      "Epoch 80/100\n",
      "104/104 [==============================] - 0s 2ms/step - loss: 1.3996e-04 - val_loss: 0.1236\n",
      "\n",
      "Epoch 00080: val_loss did not improve from 0.04789\n",
      "Epoch 81/100\n",
      "104/104 [==============================] - 0s 2ms/step - loss: 1.8746e-04 - val_loss: 0.1248\n",
      "\n",
      "Epoch 00081: val_loss did not improve from 0.04789\n",
      "Epoch 82/100\n",
      "104/104 [==============================] - 0s 2ms/step - loss: 1.9517e-04 - val_loss: 0.1272\n",
      "\n",
      "Epoch 00082: val_loss did not improve from 0.04789\n",
      "Epoch 83/100\n",
      "104/104 [==============================] - 0s 2ms/step - loss: 2.1142e-04 - val_loss: 0.1258\n",
      "\n",
      "Epoch 00083: val_loss did not improve from 0.04789\n",
      "Epoch 84/100\n",
      "104/104 [==============================] - 0s 2ms/step - loss: 1.9082e-04 - val_loss: 0.1280\n",
      "\n",
      "Epoch 00084: val_loss did not improve from 0.04789\n",
      "Epoch 85/100\n",
      "104/104 [==============================] - 0s 2ms/step - loss: 1.5878e-04 - val_loss: 0.1281\n",
      "\n",
      "Epoch 00085: val_loss did not improve from 0.04789\n",
      "Epoch 86/100\n",
      "104/104 [==============================] - 0s 2ms/step - loss: 1.4497e-04 - val_loss: 0.1263\n",
      "\n",
      "Epoch 00086: val_loss did not improve from 0.04789\n",
      "Epoch 87/100\n",
      "104/104 [==============================] - 0s 2ms/step - loss: 1.0964e-04 - val_loss: 0.1280\n",
      "\n",
      "Epoch 00087: val_loss did not improve from 0.04789\n",
      "Epoch 88/100\n",
      "104/104 [==============================] - 0s 2ms/step - loss: 1.3068e-04 - val_loss: 0.1279\n",
      "\n",
      "Epoch 00088: val_loss did not improve from 0.04789\n",
      "Epoch 89/100\n",
      "104/104 [==============================] - 0s 2ms/step - loss: 1.2306e-04 - val_loss: 0.1248\n",
      "\n",
      "Epoch 00089: val_loss did not improve from 0.04789\n",
      "Epoch 90/100\n",
      "104/104 [==============================] - 0s 2ms/step - loss: 1.0223e-04 - val_loss: 0.1306\n",
      "\n",
      "Epoch 00090: val_loss did not improve from 0.04789\n",
      "Epoch 91/100\n",
      "104/104 [==============================] - 0s 2ms/step - loss: 1.0532e-04 - val_loss: 0.1276\n",
      "\n",
      "Epoch 00091: val_loss did not improve from 0.04789\n",
      "Epoch 92/100\n",
      "104/104 [==============================] - 0s 2ms/step - loss: 1.2611e-04 - val_loss: 0.1249\n",
      "\n",
      "Epoch 00092: val_loss did not improve from 0.04789\n",
      "Epoch 93/100\n",
      "104/104 [==============================] - 0s 2ms/step - loss: 1.1991e-04 - val_loss: 0.1338\n",
      "\n",
      "Epoch 00093: val_loss did not improve from 0.04789\n",
      "Epoch 94/100\n",
      "104/104 [==============================] - 0s 2ms/step - loss: 1.3719e-04 - val_loss: 0.1214\n",
      "\n",
      "Epoch 00094: val_loss did not improve from 0.04789\n",
      "Epoch 95/100\n",
      "104/104 [==============================] - 0s 2ms/step - loss: 1.0112e-04 - val_loss: 0.1257\n",
      "\n",
      "Epoch 00095: val_loss did not improve from 0.04789\n",
      "Epoch 96/100\n",
      "104/104 [==============================] - 0s 2ms/step - loss: 7.0908e-05 - val_loss: 0.1251\n",
      "\n",
      "Epoch 00096: val_loss did not improve from 0.04789\n",
      "Epoch 97/100\n",
      "104/104 [==============================] - 0s 2ms/step - loss: 7.6161e-05 - val_loss: 0.1265\n",
      "\n",
      "Epoch 00097: val_loss did not improve from 0.04789\n",
      "Epoch 98/100\n",
      "104/104 [==============================] - 0s 2ms/step - loss: 6.8367e-05 - val_loss: 0.1245\n",
      "\n",
      "Epoch 00098: val_loss did not improve from 0.04789\n",
      "Epoch 99/100\n",
      "104/104 [==============================] - 0s 2ms/step - loss: 7.0904e-05 - val_loss: 0.1267\n",
      "\n",
      "Epoch 00099: val_loss did not improve from 0.04789\n",
      "Epoch 100/100\n",
      "104/104 [==============================] - 0s 2ms/step - loss: 9.4806e-05 - val_loss: 0.1247\n",
      "\n",
      "Epoch 00100: val_loss did not improve from 0.04789\n"
     ]
    }
   ],
   "source": [
    "model = build_model(train, n_input)"
   ]
  },
  {
   "cell_type": "code",
   "execution_count": 118,
   "metadata": {},
   "outputs": [],
   "source": [
    "def forecast(model, history, n_input):\n",
    "    # flatten data\n",
    "    data = array(history)\n",
    "    data = data.reshape((data.shape[0]*data.shape[1], data.shape[2]))\n",
    "    # retrieve last observations for input data\n",
    "    input_x = data[-n_input:, :]\n",
    "    # reshape into n input arrays\n",
    "    input_x = [input_x[:,i].reshape((1,input_x.shape[0],1)) for i in range(input_x.shape[1])]\n",
    "    # forecast the next week\n",
    "    yhat = model.predict(input_x, verbose=0)\n",
    "    # we only want the vector forecast\n",
    "    yhat = yhat[0]\n",
    "    return yhat"
   ]
  },
  {
   "cell_type": "code",
   "execution_count": 119,
   "metadata": {},
   "outputs": [],
   "source": [
    "#เป็น list ที่สมาชิกแต่ละตัวเป็น samples (windows, n-feature)\n",
    "history = [x for x in train]"
   ]
  },
  {
   "cell_type": "code",
   "execution_count": 120,
   "metadata": {},
   "outputs": [
    {
     "name": "stdout",
     "output_type": "stream",
     "text": [
      "25\n",
      "<class 'list'>\n",
      "(25, 6, 32)\n",
      "<class 'numpy.ndarray'>\n"
     ]
    }
   ],
   "source": [
    "print(len(history))\n",
    "print(type(history))\n",
    "print((array(history).shape))\n",
    "print(type(array(history)))"
   ]
  },
  {
   "cell_type": "code",
   "execution_count": 121,
   "metadata": {},
   "outputs": [],
   "source": [
    "predictions = list()\n",
    "for i in range(len(test)):\n",
    "    # predict the week\n",
    "    yhat_sequence = forecast(model, history, n_input)\n",
    "    # store the predictions\n",
    "    predictions.append(yhat_sequence)\n",
    "    # get real observation and add to history for predicting the next week\n",
    "    history.append(test[i, :])\n",
    "# evaluate predictions days for each week\n",
    "predictions = array(predictions)"
   ]
  },
  {
   "cell_type": "code",
   "execution_count": 122,
   "metadata": {},
   "outputs": [],
   "source": [
    "score, scores = evaluate_forecasts(test[:, :, 31], predictions)"
   ]
  },
  {
   "cell_type": "code",
   "execution_count": 123,
   "metadata": {},
   "outputs": [
    {
     "name": "stdout",
     "output_type": "stream",
     "text": [
      "cnn: [0.185] 0.2, 0.2, 0.2, 0.2, 0.2, 0.2\n"
     ]
    }
   ],
   "source": [
    "summarize_scores('cnn', score, scores)"
   ]
  },
  {
   "cell_type": "code",
   "execution_count": 124,
   "metadata": {},
   "outputs": [
    {
     "data": {
      "image/png": "[encoded data removed]",
      "text/plain": [
       "<Figure size 432x288 with 1 Axes>"
      ]
     },
     "metadata": {
      "needs_background": "light"
     },
     "output_type": "display_data"
    }
   ],
   "source": [
    "days = ['1','2','3','4','5','6']\n",
    "pyplot.plot(days, scores, marker='o', label='cnn')\n",
    "pyplot.show()"
   ]
  },
  {
   "cell_type": "code",
   "execution_count": 125,
   "metadata": {},
   "outputs": [],
   "source": [
    "C = pd.DataFrame(test[:, :, 31])\n",
    "C.columns = ['A1','A2','A3','A4','A5','A6']\n",
    "D = pd.DataFrame(predictions)\n",
    "D.columns = ['P1','P2','P3','P4','P5','P6']"
   ]
  },
  {
   "cell_type": "code",
   "execution_count": 126,
   "metadata": {},
   "outputs": [],
   "source": [
    "C.to_csv('real.csv')"
   ]
  },
  {
   "cell_type": "code",
   "execution_count": 127,
   "metadata": {},
   "outputs": [],
   "source": [
    "D.to_csv('predictions.csv')"
   ]
  },
  {
   "cell_type": "code",
   "execution_count": 64,
   "metadata": {},
   "outputs": [],
   "source": []
  },
  {
   "cell_type": "code",
   "execution_count": 65,
   "metadata": {},
   "outputs": [],
   "source": []
  },
  {
   "cell_type": "code",
   "execution_count": 66,
   "metadata": {},
   "outputs": [],
   "source": []
  },
  {
   "cell_type": "code",
   "execution_count": null,
   "metadata": {},
   "outputs": [],
   "source": []
  }
 ],
 "metadata": {
  "kernelspec": {
   "display_name": "Python 3",
   "language": "python",
   "name": "python3"
  },
  "language_info": {
   "codemirror_mode": {
    "name": "ipython",
    "version": 3
   },
   "file_extension": ".py",
   "mimetype": "text/x-python",
   "name": "python",
   "nbconvert_exporter": "python",
   "pygments_lexer": "ipython3",
   "version": "3.7.7"
  }
 },
 "nbformat": 4,
 "nbformat_minor": 4
}
