{
 "cells": [
  {
   "cell_type": "code",
   "execution_count": 1,
   "metadata": {},
   "outputs": [
    {
     "name": "stderr",
     "output_type": "stream",
     "text": [
      "Using TensorFlow backend.\n"
     ]
    }
   ],
   "source": [
    "from func1 import *\n",
    "from query1 import *"
   ]
  },
  {
   "cell_type": "code",
   "execution_count": 2,
   "metadata": {},
   "outputs": [],
   "source": [
    "df = data1(3)\n",
    "df.index = df['datetime']\n",
    "df.index = df.index.astype('datetime64[ns]')\n",
    "df.sort_index(inplace=True)\n",
    "df.dropna(inplace=True)\n",
    "df['datetime'] = pd.to_datetime(df['datetime'])"
   ]
  },
  {
   "cell_type": "code",
   "execution_count": 3,
   "metadata": {},
   "outputs": [],
   "source": [
    "dtat0 = df.iloc[-1:,0:1].values[0][0]\n",
    "dti = pd.date_range(dtat0, periods=2).shift(1, freq='D')\n",
    "dfdt = dti.to_frame(index=False, name='datims')"
   ]
  },
  {
   "cell_type": "code",
   "execution_count": 4,
   "metadata": {},
   "outputs": [],
   "source": [
    "df.drop(('datetime'), axis=1, inplace=True)"
   ]
  },
  {
   "cell_type": "code",
   "execution_count": 5,
   "metadata": {},
   "outputs": [],
   "source": [
    "from sklearn.preprocessing import MinMaxScaler\n",
    "y_scaler = MinMaxScaler()\n",
    "y_scaler.fit(df[['fore24']])\n",
    "X_scaler = MinMaxScaler()\n",
    "\n",
    "df[['tail24', 'tail24_avg', 'evap', 'infl', 'losses',\n",
    "       'rel1', 'rel2', 'rel3', 'rel_tol', 'engr1', 'engr2', 'engr3', 'cond1',\n",
    "       'cond2', 'cond3', 'str1', 'str2', 'str3', 'run_g1', 'run_g2', 'run_g3',\n",
    "       'run_c1', 'run_c2', 'run_c3', 'spillway', 'irr', 'camp', 'demand',\n",
    "       'derate', 'outage', 'stor','fore24']] = X_scaler.fit_transform(df)"
   ]
  },
  {
   "cell_type": "code",
   "execution_count": 6,
   "metadata": {},
   "outputs": [],
   "source": [
    "dfval = df.values[:,:-1]"
   ]
  },
  {
   "cell_type": "code",
   "execution_count": 7,
   "metadata": {},
   "outputs": [],
   "source": [
    "n_steps_in, n_steps_out = 3, 2\n",
    "X_test = dfval.reshape(1,3,31).transpose(0,1,2)\n",
    "\n",
    "n_features = X_test.shape[2]"
   ]
  },
  {
   "cell_type": "code",
   "execution_count": 8,
   "metadata": {},
   "outputs": [
    {
     "name": "stdout",
     "output_type": "stream",
     "text": [
      "Model: \"sequential_1\"\n",
      "_________________________________________________________________\n",
      "Layer (type)                 Output Shape              Param #   \n",
      "=================================================================\n",
      "conv1d_1 (Conv1D)            (None, 2, 64)             4032      \n",
      "_________________________________________________________________\n",
      "max_pooling1d_1 (MaxPooling1 (None, 1, 64)             0         \n",
      "_________________________________________________________________\n",
      "flatten_1 (Flatten)          (None, 64)                0         \n",
      "_________________________________________________________________\n",
      "dense_1 (Dense)              (None, 50)                3250      \n",
      "_________________________________________________________________\n",
      "dense_2 (Dense)              (None, 2)                 102       \n",
      "=================================================================\n",
      "Total params: 7,384\n",
      "Trainable params: 7,384\n",
      "Non-trainable params: 0\n",
      "_________________________________________________________________\n"
     ]
    }
   ],
   "source": [
    "model_2 = ShallowConvNet(n_steps_in=n_steps_in, n_steps_out=n_steps_out, n_features=n_features)\n",
    "model_2.summary()\n",
    "model_2.load_weights(\"models/model1_m.hdf5\")\n",
    "model_2.compile(optimizer='adam', loss='mse')\n",
    "Y_pred = model_2.predict(X_test)\n",
    "yp = y_scaler.inverse_transform(Y_pred)"
   ]
  },
  {
   "cell_type": "code",
   "execution_count": 11,
   "metadata": {},
   "outputs": [],
   "source": [
    "from sqlalchemy import create_engine\n",
    "user='root'\n",
    "pwd='opt#565784'\n",
    "dbname='predictive'\n",
    "host='10.211.1.25'\n",
    "port=3306\n",
    "con = create_engine(f'mysql+pymysql://{user}:{pwd}@{host}:{port}/{dbname}')"
   ]
  },
  {
   "cell_type": "code",
   "execution_count": 12,
   "metadata": {},
   "outputs": [],
   "source": [
    "df = pd.DataFrame(yp).T\n",
    "df.columns = ['fore24']\n",
    "\n",
    "com = pd.concat([dfdt, df], axis=1, join='inner')\n",
    "com.to_sql('waterpred_m', con, if_exists='replace', index=False)"
   ]
  },
  {
   "cell_type": "code",
   "execution_count": null,
   "metadata": {},
   "outputs": [],
   "source": []
  }
 ],
 "metadata": {
  "kernelspec": {
   "display_name": "Python 3",
   "language": "python",
   "name": "python3"
  },
  "language_info": {
   "codemirror_mode": {
    "name": "ipython",
    "version": 3
   },
   "file_extension": ".py",
   "mimetype": "text/x-python",
   "name": "python",
   "nbconvert_exporter": "python",
   "pygments_lexer": "ipython3",
   "version": "3.7.7"
  }
 },
 "nbformat": 4,
 "nbformat_minor": 4
}
